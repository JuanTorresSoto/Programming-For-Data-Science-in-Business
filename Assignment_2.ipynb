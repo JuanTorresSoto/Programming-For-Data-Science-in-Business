{
  "nbformat": 4,
  "nbformat_minor": 0,
  "metadata": {
    "colab": {
      "provenance": [],
      "authorship_tag": "ABX9TyPVPmudtLFsW1eUPS4ebneS",
      "include_colab_link": true
    },
    "kernelspec": {
      "name": "python3",
      "display_name": "Python 3"
    },
    "language_info": {
      "name": "python"
    }
  },
  "cells": [
    {
      "cell_type": "markdown",
      "metadata": {
        "id": "view-in-github",
        "colab_type": "text"
      },
      "source": [
        "<a href=\"https://colab.research.google.com/github/JuanTorresSoto/Programming-For-Data-Science-in-Business/blob/main/Assignment_2.ipynb\" target=\"_parent\"><img src=\"https://colab.research.google.com/assets/colab-badge.svg\" alt=\"Open In Colab\"/></a>"
      ]
    },
    {
      "cell_type": "markdown",
      "source": [
        "**Exercise 1**\n",
        "\n",
        "Print the following text:\n",
        "\n",
        "• It’s raining now.\n",
        "\n",
        "• “\\\\” is a double backslash\n",
        "\n",
        "• 1 2 3 (Note: numbers are tab separated)"
      ],
      "metadata": {
        "id": "N_NlzVH8A5h-"
      }
    },
    {
      "cell_type": "code",
      "execution_count": null,
      "metadata": {
        "id": "AupjDDmnAXqB",
        "collapsed": true
      },
      "outputs": [],
      "source": [
        "print(\"it's raining now.\")\n"
      ]
    },
    {
      "cell_type": "code",
      "source": [
        "print('\"\\\\\\\\\" is a double backslash')"
      ],
      "metadata": {
        "id": "JdHYbrn9RUTs"
      },
      "execution_count": null,
      "outputs": []
    },
    {
      "cell_type": "code",
      "source": [
        "print(\"1\\t2\\t3\")"
      ],
      "metadata": {
        "id": "mWMpjcJuSBdH"
      },
      "execution_count": null,
      "outputs": []
    },
    {
      "cell_type": "markdown",
      "source": [
        "**Exercise 2**\n",
        "\n",
        "Write a program using user input function and arithmetic operators to do the following tasks.\n",
        "\n",
        "1) Obtain two integer inputs from users: X and Y\n",
        "\n",
        "2) Print out results for the equations (X+Y)/(X-Y) and (X-Y)^3\n",
        "\n",
        "3) Print out the last digit of X+Y\n"
      ],
      "metadata": {
        "id": "YTlbElcfS881"
      }
    },
    {
      "cell_type": "code",
      "source": [
        "x = int(input(\"Enter x value:\"))\n",
        "y = int(input(\"Enter y value:\"))\n",
        "\n",
        "formula1 = (x+y)/(x-y)\n",
        "formula2 = (x-y)**3\n",
        "formula3 = (x+y) %10\n",
        "\n",
        "print(formula1)\n",
        "print(formula2)\n",
        "print(formula3)"
      ],
      "metadata": {
        "id": "2Z7OrD9PTB5K"
      },
      "execution_count": null,
      "outputs": []
    },
    {
      "cell_type": "markdown",
      "source": [
        "** Exercise 3**\n",
        "\n",
        "\n",
        "Write a program to compute roots of quadratic equations.\n",
        "\n",
        "1) Obtain three numbers from users: a, b, c\n",
        "\n",
        "2) Check whether the quadratic equation 𝑎𝑥2 + 𝑏𝑥 + 𝑐 has real number roots. If yes, calculate the\n",
        "print the two roots; otherwise, print “No solution”."
      ],
      "metadata": {
        "id": "4RariL1AUvZA"
      }
    },
    {
      "cell_type": "code",
      "source": [
        "import math\n",
        "\n",
        "a = float(input(\"Enter a:\"))\n",
        "b = float(input(\"Enter b:\"))\n",
        "c = float(input(\"Enter c:\"))\n",
        "\n",
        "discriminant = b**2 - 4 * a * c\n",
        "\n",
        "if discriminant >= 0:\n",
        "  sqroot1 = (-b + math.sqrt(discriminant)) / (2 * a)\n",
        "  sqroot2 = (-b - math.sqrt(discriminant)) / (2 * a)\n",
        "\n",
        "  print(\"The Roots are:\")\n",
        "  print(f\"Square Root 1:{sqroot1}\")\n",
        "  print(f\"Square Root 2:{sqroot2}\")\n",
        "\n",
        "\n",
        "else:\n",
        "  print(\"No Solution\")\n"
      ],
      "metadata": {
        "id": "i0dL_EOLUvHd"
      },
      "execution_count": null,
      "outputs": []
    },
    {
      "cell_type": "markdown",
      "source": [
        "**Exercise 4**\n",
        "\n",
        "Write a program using conditional statements and user input function to convert temperatures between\n",
        "Celsius and Fahrenheit"
      ],
      "metadata": {
        "id": "otAnfS37dQHc"
      }
    },
    {
      "cell_type": "code",
      "source": [
        "def converting_to_celsius(celsius):\n",
        "  return(celsius /5)\n",
        "\n",
        "def converting_to_fahrenheit(fahrenheit):\n",
        "  return(fahreinheit - 32) /9\n",
        "\n",
        "print(\"Converting Temperatures\")\n",
        "print(\"Celcius to Fahrenheit\")\n",
        "print(\"Fahrenheit to Celsius\")\n",
        "\n",
        "choice = input(\"Pick conversion type (C or F):\")\n",
        "\n",
        "if choice == 'C':\n",
        "  celsius = float(input(\"Enter temperature in Celsius:\"))\n",
        "  fahrenheit = float(input(\"Enter temperature in Fahrenheit:\"))\n",
        "  print(f\"{celsius}C is equal to {fahrenheit: .2f}F\")\n",
        "\n",
        "\n",
        "else:\n",
        "  print(\"Invalid choice, please enter C or F\")"
      ],
      "metadata": {
        "colab": {
          "base_uri": "https://localhost:8080/"
        },
        "id": "xC9cuFZddY2q",
        "outputId": "19715639-bfc6-472d-8757-409164dc1973"
      },
      "execution_count": null,
      "outputs": [
        {
          "output_type": "stream",
          "name": "stdout",
          "text": [
            "Converting Temperatures\n",
            "Celcius to Fahrenheit\n",
            "Fahrenheit to Celsius\n",
            "Pick conversion type (C or F):C\n",
            "Enter temperature in Celsius:23\n",
            "Enter temperature in Fahrenheit:99\n",
            "23.0C is equal to  99.00F\n"
          ]
        }
      ]
    },
    {
      "cell_type": "code",
      "source": [
        "def converting_to_celsius(celsius):\n",
        "  return(celsius /5)\n",
        "\n",
        "def converting_to_fahrenheit(fahrenheit):\n",
        "  return(fahreinheit - 32) /9\n",
        "\n",
        "temperature = float(input(\"Enter the temperature:\"))\n",
        "unit = input(\"Is this Celsius (C) or Fahrenheit (F)?\").strip().upper()\n",
        "\n",
        "if unit == 'C':\n",
        "  fahrenheit = converting_to_celsius(temperature)\n",
        "  print(f\"{temperature}C is {fahrenheit:.0f} in Faharenheit\")\n",
        "\n",
        "elif unit == 'F':\n",
        "  celsius = converting_to_fahrenheit(temperature)\n",
        "  print(f\"{temperature}F is {celsius.of} in Celsius\")\n",
        "\n",
        "else:\n",
        "  print(\"invalid unit. Please enter C or F\")"
      ],
      "metadata": {
        "id": "hPYG72U1iIkY"
      },
      "execution_count": null,
      "outputs": []
    },
    {
      "cell_type": "markdown",
      "source": [
        "**Exercise 5**\n",
        "\n",
        "Write a program using conditional statements and user input function to generate the outcome of the\n",
        "rock, scissors, paper game. The only valid inputs are rock, paper, and scissors. If the user enters\n",
        "anything else, your program should output “invalid input”."
      ],
      "metadata": {
        "id": "yObjLWZikSRl"
      }
    },
    {
      "cell_type": "code",
      "source": [
        "import random\n",
        "def determine_winner(user, computer):\n",
        "    if user == computer:\n",
        "        return \"It's a tie!\"\n",
        "    elif (user == 'rock' and computer == 'scissors') or \\\n",
        "         (user == 'paper' and computer == 'rock') or \\\n",
        "         (user == 'scissors' and computer == 'paper'):\n",
        "        return \"User is the winnamon!\"\n",
        "    else:\n",
        "        return \"You got beat by a machine\"\n",
        "\n",
        "print(\"Rock Paper Scissors!\")\n",
        "\n",
        "options = ['rock', 'paper', 'scissors']\n",
        "\n",
        "user = input(\"Enter your choice (rock, paper, scissors): \").strip().lower()\n",
        "\n",
        "if user not in options:\n",
        "  print(\"invalid input\")\n",
        "\n",
        "else:\n",
        "  computer = random.choice(options)\n",
        "  print(f\"Computer chose: {computer}\")\n",
        "\n",
        "  result = determine_winner(user, computer)\n",
        "  print(result)\n",
        "\n"
      ],
      "metadata": {
        "id": "JzZ3ivR8hu_2"
      },
      "execution_count": null,
      "outputs": []
    },
    {
      "cell_type": "markdown",
      "source": [
        "**Exercise 6**\n",
        "\n",
        "1 + 3 + 5 + 7 + … + (2n-1) and prints out this sum to the screen.\n",
        "For example, when n is 5, 2n-1 is 9, thus the sum of integers is 1+3+5+7+9=25.\n",
        "Your program should be able to handle the invalid case where the input is negative. You must use\n",
        "loop to do this task."
      ],
      "metadata": {
        "id": "mHG-21Cpnptt"
      }
    },
    {
      "cell_type": "code",
      "source": [
        "def sum_of_positive_integers(n):\n",
        "    total_sum = 0\n",
        "    for i in range(1, 2 * n,2):  # Loop\n",
        "        total_sum += i\n",
        "    return total_sum\n",
        "\n",
        "\n",
        "while True:\n",
        "    try:\n",
        "        n = int(input(\"Enter a positive integer n: \"))\n",
        "        5\n",
        "        if n < 0:\n",
        "            print(\"Please enter a positive integer.\")\n",
        "        else:\n",
        "            result = sum_of_positive_integers(n)\n",
        "            print(f\"The sum of integers from 1 to {2 * n - 1} is: {result}\")\n",
        "            break  # Exit the loop when incorrect value\n",
        "    except ValueError:\n",
        "        print(\"Invalid input. Please enter a valid positive integer.\")"
      ],
      "metadata": {
        "id": "Rh0oI4fLnt0J"
      },
      "execution_count": null,
      "outputs": []
    },
    {
      "cell_type": "markdown",
      "source": [
        "**Exercise 7**\n",
        "\n",
        "Marble Game\n",
        "Write a program that allows to players to play the marble game using combinations of loop and\n",
        "conditional statements. In the marble game, you ask the user to enter how many marbles to start with.\n",
        "Then, the game begins. The first player must take 1, 2 or 3 marbles. Then the second player goes and\n",
        "must take 1, 2 or 3 marbles. The winner is the player who takes the last marble.\n",
        "Allow two users to play this game and print out the winner (player #1 or player#2). Assume that both\n",
        "players enter valid inputs (1, 2 or 3, and they never try to take more marbles than there are in the pile.)"
      ],
      "metadata": {
        "id": "awj75Dqxrrzv"
      }
    },
    {
      "cell_type": "code",
      "source": [
        "def marble_game():\n",
        "    total_marbles = int(input(\"Enter the number of marbles to start with: \"))\n",
        "\n",
        "    current_player = 1\n",
        "\n",
        "    #loop\n",
        "3\n",
        "    while total_marbles > 0:\n",
        "        print(f\"\\nCurrent marbles: {total_marbles}\")\n",
        "        print(f\"Player {current_player}, your turn.\")\n",
        "\n",
        "        marbles_taken = int(input(\"take 1, 2, or 3 marbels\"))\n",
        "\n",
        "        if marbles_taken in [1, 2, 3] and marbles_taken <= total_marbles:\n",
        "            total_marbles -= marbles_taken\n",
        "\n",
        "\n",
        "            if total_marbles == 0:\n",
        "                print(f\"Player {current_player} wins!\")\n",
        "                break\n",
        "\n",
        "            current_player = 2 if current_player == 1 else 1\n",
        "        else:\n",
        "            print(\"Invalid input. Please take 1, 2, or 3 marbles\")\n",
        "\n",
        "# Start the game\n",
        "marble_game()\n"
      ],
      "metadata": {
        "id": "gTPaU2t8rzrP"
      },
      "execution_count": null,
      "outputs": []
    }
  ]
}