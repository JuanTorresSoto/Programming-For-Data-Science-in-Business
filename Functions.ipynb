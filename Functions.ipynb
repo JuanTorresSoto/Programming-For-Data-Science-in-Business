{
  "nbformat": 4,
  "nbformat_minor": 0,
  "metadata": {
    "colab": {
      "provenance": [],
      "authorship_tag": "ABX9TyO7lyqN8R0MQwi4F7tn7oTV"
    },
    "kernelspec": {
      "name": "python3",
      "display_name": "Python 3"
    },
    "language_info": {
      "name": "python"
    }
  },
  "cells": [
    {
      "cell_type": "markdown",
      "source": [
        "**Functions**\n",
        "\n",
        "Do the following operations for two numbers and print results +,-,*,/\n",
        "\n",
        "def -- tells python that you are defining functions\n",
        "name -- preferably a name that does not already exist for something else\n",
        "(parameters) -- idenf=tify the different parameters that will be needed for your function"
      ],
      "metadata": {
        "id": "lYA8nz3eBlxr"
      }
    },
    {
      "cell_type": "code",
      "execution_count": null,
      "metadata": {
        "id": "CeqU3mJ-BXSy"
      },
      "outputs": [],
      "source": [
        "de calc(a, b): # I have a function called calc which needs"
      ]
    },
    {
      "cell_type": "code",
      "source": [],
      "metadata": {
        "id": "9swho1NKBobu"
      },
      "execution_count": null,
      "outputs": []
    },
    {
      "cell_type": "code",
      "source": [],
      "metadata": {
        "id": "6iScXy-aChXr"
      },
      "execution_count": null,
      "outputs": []
    },
    {
      "cell_type": "code",
      "source": [
        "import math\n",
        "math.exp(1)"
      ],
      "metadata": {
        "colab": {
          "base_uri": "https://localhost:8080/"
        },
        "id": "cIkbeZyMChfU",
        "outputId": "4db9143c-ebb9-4537-b5bd-10c116394b8b"
      },
      "execution_count": 2,
      "outputs": [
        {
          "output_type": "execute_result",
          "data": {
            "text/plain": [
              "2.718281828459045"
            ]
          },
          "metadata": {},
          "execution_count": 2
        }
      ]
    },
    {
      "cell_type": "code",
      "source": [
        "import math\n",
        "decible = math.log10(17.0)\n",
        "print(decible)"
      ],
      "metadata": {
        "colab": {
          "base_uri": "https://localhost:8080/"
        },
        "id": "XgA-4ux_Crsa",
        "outputId": "e1382b7a-d158-4538-f04e-1491ce4be21d"
      },
      "execution_count": 3,
      "outputs": [
        {
          "output_type": "stream",
          "name": "stdout",
          "text": [
            "1.2304489213782739\n"
          ]
        }
      ]
    },
    {
      "cell_type": "code",
      "source": [
        "def calc(a,b):\n",
        "  sumup = a + b\n",
        "  subtraction = a - b\n",
        "  multiply = a * b\n",
        "  division = a/ b\n",
        "  loga = math.log10(a)\n",
        "  print(\"sum is:\", sumup)\n",
        "  print(\"subtraction is:\", subtraction)\n",
        "  print(\"multiplication is:\", multiply)\n",
        "  print(\"division is:\", division)\n",
        "  print(\"log of a is:\", loga)"
      ],
      "metadata": {
        "id": "6nyInGI4C8p4"
      },
      "execution_count": 6,
      "outputs": []
    },
    {
      "cell_type": "code",
      "source": [
        "calc(10,5)"
      ],
      "metadata": {
        "colab": {
          "base_uri": "https://localhost:8080/"
        },
        "id": "VhFWFKBqDyvk",
        "outputId": "024e1c9a-8888-45de-834f-ad5f1d5aceb8"
      },
      "execution_count": 7,
      "outputs": [
        {
          "output_type": "stream",
          "name": "stdout",
          "text": [
            "sum is: 15\n",
            "subtraction is: 5\n",
            "multiplication is: 50\n",
            "division is: 2.0\n",
            "log of a is: 1.0\n"
          ]
        }
      ]
    },
    {
      "cell_type": "markdown",
      "source": [
        "Define a function that takes two numbers \"a\" and \"b\" and returns log_b(a)"
      ],
      "metadata": {
        "id": "qL1rI8G7ECVE"
      }
    },
    {
      "cell_type": "code",
      "source": [
        "def calclag(a,b):\n",
        "  logb = math.log(a,b)\n",
        "  print(\"log of b is:\",logb)"
      ],
      "metadata": {
        "id": "Wt_4NtRHEZAq"
      },
      "execution_count": 15,
      "outputs": []
    },
    {
      "cell_type": "code",
      "source": [
        "calclag(2,5)"
      ],
      "metadata": {
        "colab": {
          "base_uri": "https://localhost:8080/"
        },
        "id": "lGO2rleGEtS9",
        "outputId": "d142f5cf-46ef-4e5a-ee99-290870ecfc49"
      },
      "execution_count": 16,
      "outputs": [
        {
          "output_type": "stream",
          "name": "stdout",
          "text": [
            "log of b is: 0.43067655807339306\n"
          ]
        }
      ]
    },
    {
      "cell_type": "code",
      "source": [
        "#Instructors answer\n",
        "def calclago(a,b):\n",
        "  print(math.log(a,b))"
      ],
      "metadata": {
        "id": "sQ-1uVe5FI1_"
      },
      "execution_count": 11,
      "outputs": []
    },
    {
      "cell_type": "code",
      "source": [
        "calclago(2,5)"
      ],
      "metadata": {
        "colab": {
          "base_uri": "https://localhost:8080/"
        },
        "id": "7EBNvLalFYIc",
        "outputId": "e8623614-b1d5-4035-bd81-4d9bfbf1698a"
      },
      "execution_count": 12,
      "outputs": [
        {
          "output_type": "stream",
          "name": "stdout",
          "text": [
            "0.43067655807339306\n"
          ]
        }
      ]
    },
    {
      "cell_type": "code",
      "source": [
        "#combination of math functions\n",
        "x = math.exp(math.log(10))\n",
        "print(x)"
      ],
      "metadata": {
        "colab": {
          "base_uri": "https://localhost:8080/"
        },
        "id": "X7nwiLa_EBFZ",
        "outputId": "ae122828-c118-4045-bf32-809792dc01e8"
      },
      "execution_count": 8,
      "outputs": [
        {
          "output_type": "stream",
          "name": "stdout",
          "text": [
            "10.000000000000002\n"
          ]
        }
      ]
    },
    {
      "cell_type": "code",
      "source": [
        "x = calc(10,5)\n",
        "print(x)"
      ],
      "metadata": {
        "colab": {
          "base_uri": "https://localhost:8080/"
        },
        "id": "SgV10Q9-FtGM",
        "outputId": "d4f87aaf-5bbd-4aee-9b4b-696d924a6f29"
      },
      "execution_count": 17,
      "outputs": [
        {
          "output_type": "stream",
          "name": "stdout",
          "text": [
            "sum is: 15\n",
            "subtraction is: 5\n",
            "multiplication is: 50\n",
            "division is: 2.0\n",
            "log of a is: 1.0\n",
            "None\n"
          ]
        }
      ]
    },
    {
      "cell_type": "code",
      "source": [
        "#In the code below, even though x is given the value of 1 inside the function,\n",
        "#that is only valid inside the function. Outside the function, x = 5\n",
        "x =5\n",
        "print(\"Hello\")\n",
        "\n",
        "def print_oks():\n",
        "  x =1\n",
        "  print(\"ok1\")\n",
        "  print(\"ok2\")\n",
        "\n",
        "print(\"yo\")\n",
        "x = x+2\n",
        "print(x)"
      ],
      "metadata": {
        "colab": {
          "base_uri": "https://localhost:8080/"
        },
        "id": "SnIVpOBmGBVN",
        "outputId": "34e6d34d-83ec-4c82-d182-be3d4bc72ebe"
      },
      "execution_count": 18,
      "outputs": [
        {
          "output_type": "stream",
          "name": "stdout",
          "text": [
            "Hello\n",
            "yo\n",
            "7\n"
          ]
        }
      ]
    },
    {
      "cell_type": "code",
      "source": [
        "x =5\n",
        "print(\"Hello\")\n",
        "\n",
        "def print_oks():\n",
        "  x =1\n",
        "  print(\"ok1\")\n",
        "  print(\"ok2\")\n",
        "\n",
        "print(\"yo\")\n",
        "x = x+2\n",
        "print(x)"
      ],
      "metadata": {
        "colab": {
          "base_uri": "https://localhost:8080/"
        },
        "id": "oqgbNwXAG8wz",
        "outputId": "c1320aab-0130-4d33-e98f-31dcc0260bef"
      },
      "execution_count": 20,
      "outputs": [
        {
          "output_type": "stream",
          "name": "stdout",
          "text": [
            "Hello\n",
            "yo\n",
            "7\n"
          ]
        }
      ]
    },
    {
      "cell_type": "markdown",
      "source": [
        "Arguments:\n",
        "\n",
        "You can use names of arguments to avoid any errors. If you use name arguments, you don't need to follow the order of the arguments in which the function was written. You can pass the arguments in any order. Just be sure to pass all required arguments."
      ],
      "metadata": {
        "id": "zj6isQXEHV9H"
      }
    },
    {
      "cell_type": "markdown",
      "source": [
        "**TASK:** write a function that takes two inputs \"a\" and \"b\" and returns the sum of numbers from a to b inclusive. a= 1, b= 5 returns 1+2+3+4+5 = 15"
      ],
      "metadata": {
        "id": "S4Y3JowUJsRR"
      }
    },
    {
      "cell_type": "code",
      "source": [
        "def calcsum(a=1,b=5):\n",
        "  sumall = sum(range(a,b + 1))\n",
        "  #sumall = sum(list(range(a + b)))\n",
        "  print(\"sum all is:\",sumall)\n",
        "  return sumall\n",
        "\n",
        "y = calcsum(1,5)"
      ],
      "metadata": {
        "colab": {
          "base_uri": "https://localhost:8080/"
        },
        "id": "PjZSw05eIFXh",
        "outputId": "b0347d2c-425c-4c59-ccdf-24c3bbabb2a1"
      },
      "execution_count": 50,
      "outputs": [
        {
          "output_type": "stream",
          "name": "stdout",
          "text": [
            "sum all is: 15\n"
          ]
        }
      ]
    },
    {
      "cell_type": "code",
      "source": [
        "list(range(5))"
      ],
      "metadata": {
        "colab": {
          "base_uri": "https://localhost:8080/"
        },
        "id": "e4viTOmpL_yt",
        "outputId": "55cbc6fb-c349-43a1-b93a-6cf4fc29dd2f"
      },
      "execution_count": 37,
      "outputs": [
        {
          "output_type": "execute_result",
          "data": {
            "text/plain": [
              "[0, 1, 2, 3, 4]"
            ]
          },
          "metadata": {},
          "execution_count": 37
        }
      ]
    },
    {
      "cell_type": "code",
      "source": [
        "list(range(2,5))"
      ],
      "metadata": {
        "colab": {
          "base_uri": "https://localhost:8080/"
        },
        "id": "0iR3sUmdMDZk",
        "outputId": "84cbc3b3-5535-4639-a785-96272d3ed996"
      },
      "execution_count": 35,
      "outputs": [
        {
          "output_type": "execute_result",
          "data": {
            "text/plain": [
              "[2, 3, 4]"
            ]
          },
          "metadata": {},
          "execution_count": 35
        }
      ]
    },
    {
      "cell_type": "code",
      "source": [
        "#Instructors answer\n",
        "range(5)\n",
        "sum(range(5))\n",
        "range(2,7)\n"
      ],
      "metadata": {
        "id": "7oSNVV6oM7sQ"
      },
      "execution_count": null,
      "outputs": []
    },
    {
      "cell_type": "code",
      "source": [
        "def my_func(a,b):\n",
        "  x = sum(range(a,b+1))\n",
        "  print(x)\n",
        "  return x"
      ],
      "metadata": {
        "id": "4ud8PXtXNHRx"
      },
      "execution_count": 48,
      "outputs": []
    },
    {
      "cell_type": "code",
      "source": [
        "y = my_func(1,5)"
      ],
      "metadata": {
        "colab": {
          "base_uri": "https://localhost:8080/"
        },
        "id": "TXGrx1ejNUfr",
        "outputId": "17c33263-b78d-4f38-9cca-410f7b22e7b3"
      },
      "execution_count": 49,
      "outputs": [
        {
          "output_type": "stream",
          "name": "stdout",
          "text": [
            "15\n"
          ]
        }
      ]
    }
  ]
}