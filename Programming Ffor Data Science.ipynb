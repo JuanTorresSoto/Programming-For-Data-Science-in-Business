{
  "nbformat": 4,
  "nbformat_minor": 0,
  "metadata": {
    "colab": {
      "provenance": [],
      "authorship_tag": "ABX9TyMJV0G5l2lr8fjMXKCROMK6"
    },
    "kernelspec": {
      "name": "python3",
      "display_name": "Python 3"
    },
    "language_info": {
      "name": "python"
    }
  },
  "cells": [
    {
      "cell_type": "markdown",
      "source": [
        "**Juan Torres Soto - UIN:664654936**\n",
        "\n",
        "Question 1"
      ],
      "metadata": {
        "id": "SGKRedOSpkMD"
      }
    },
    {
      "cell_type": "code",
      "execution_count": null,
      "metadata": {
        "colab": {
          "base_uri": "https://localhost:8080/"
        },
        "id": "wLeulkXmoHf8",
        "outputId": "3d59be1e-3ffa-42ef-e025-8cd37b836d18"
      },
      "outputs": [
        {
          "output_type": "stream",
          "name": "stdout",
          "text": [
            "hello world!\n",
            "Hello, 'world!\n",
            "Hellow\tworld\n",
            "Hello\n",
            "world\n"
          ]
        }
      ],
      "source": [
        "print(\"hello world!\")\n",
        "print(\"Hello, 'world!\")\n",
        "print(\"Hellow\\tworld\")\n",
        "print(\"Hello\\nworld\")"
      ]
    },
    {
      "cell_type": "code",
      "source": [],
      "metadata": {
        "id": "QJTXLEwj8JKi"
      },
      "execution_count": null,
      "outputs": []
    },
    {
      "cell_type": "markdown",
      "source": [
        "Question 2 Arithmetic operators and type conversion"
      ],
      "metadata": {
        "id": "dAmuClHSposl"
      }
    },
    {
      "cell_type": "code",
      "source": [
        "#assigning variables\n",
        "x=7\n",
        "y=3\n",
        "m='2.7'"
      ],
      "metadata": {
        "id": "40j_tGd2pohz"
      },
      "execution_count": null,
      "outputs": []
    },
    {
      "cell_type": "code",
      "source": [
        "#sum of x and y\n",
        "qtwos = x+y\n",
        "print(qtwos)\n",
        "#division of x and y\n",
        "qtwod = x/y\n",
        "print(qtwod)\n",
        "#. division of x and y only the floor of the result\n",
        "qtwodd = x//y\n",
        "print(qtwodd)\n",
        "#remainder of the x and y division\n",
        "qtwoddd = x%y\n",
        "print(qtwoddd)\n",
        "#What type is m\n",
        "what_is_m = type(m)\n",
        "print(what_is_m)\n",
        "#converting m\n",
        "new_m = float(m)"
      ],
      "metadata": {
        "colab": {
          "base_uri": "https://localhost:8080/"
        },
        "id": "cEhrG-4tqUXU",
        "outputId": "8b8e7afa-c717-439a-f304-9999d6946767"
      },
      "execution_count": null,
      "outputs": [
        {
          "output_type": "stream",
          "name": "stdout",
          "text": [
            "10\n",
            "2.3333333333333335\n",
            "2\n",
            "1\n",
            "<class 'str'>\n"
          ]
        }
      ]
    },
    {
      "cell_type": "code",
      "source": [
        "#sum of y and m\n",
        "sum_of_m = y+ new_m\n",
        "print(sum_of_m)"
      ],
      "metadata": {
        "colab": {
          "base_uri": "https://localhost:8080/"
        },
        "id": "IfaTPOTvsHij",
        "outputId": "6abfb222-ac62-4f4b-de07-c601667f60fe"
      },
      "execution_count": null,
      "outputs": [
        {
          "output_type": "stream",
          "name": "stdout",
          "text": [
            "5.7\n"
          ]
        }
      ]
    },
    {
      "cell_type": "markdown",
      "source": [
        "Question 3 with your own input:\n",
        "Assign value of x and y during execution of the program (user input). Then print the sum\n",
        "of x and y, and the division of x by y."
      ],
      "metadata": {
        "id": "-2GpSzGDshyI"
      }
    },
    {
      "cell_type": "code",
      "source": [
        "x = int(input(\"Enter value of x\"))\n",
        "y = int(input(\"Enter value of y\"))\n",
        "a = x + y\n",
        "b = x/y\n",
        "print(a)\n",
        "print(b)"
      ],
      "metadata": {
        "colab": {
          "base_uri": "https://localhost:8080/"
        },
        "id": "XViXtv_VsjPH",
        "outputId": "c22e3114-43c5-4092-e4f5-a1fd111da281"
      },
      "execution_count": null,
      "outputs": [
        {
          "output_type": "stream",
          "name": "stdout",
          "text": [
            "Enter value of x22\n",
            "Enter value of y5\n",
            "27\n",
            "4.4\n"
          ]
        }
      ]
    },
    {
      "cell_type": "markdown",
      "source": [
        "Question 4 Logical Operator: Given the value of a and b in previous question, find out whether the following\n",
        "statement is true.\n",
        "\n",
        "• Variable a is greater than or equal to b, and a is greater than 5\n",
        "\n",
        "• Variable a is less than or equal to b, or the value of a is greater than 5\n",
        "\n",
        "• What is the value of ‘not a’?\n"
      ],
      "metadata": {
        "id": "CE3DBswTtq_I"
      }
    },
    {
      "cell_type": "code",
      "source": [
        "if a >= b and a > 5:\n",
        "  print(\"Variable a is greater than or equal to b, and a is greater than 5\\nTRUE\")\n",
        "else:\n",
        "  print(\"Variable a is greater than or equal t ob, and a is greater than 5\\nFALSE\")\n",
        "\n",
        "# Another way to get boolean results\n",
        "con1 = (a>=b) and (a>5)\n",
        "print(con1)"
      ],
      "metadata": {
        "colab": {
          "base_uri": "https://localhost:8080/"
        },
        "id": "Nl5ja_ortv01",
        "outputId": "34877bd7-9855-4100-9404-94a59f9910fd"
      },
      "execution_count": null,
      "outputs": [
        {
          "output_type": "stream",
          "name": "stdout",
          "text": [
            "Variable a is greater than or equal to b, and a is greater than 5\n",
            "TRUE\n",
            "True\n"
          ]
        }
      ]
    },
    {
      "cell_type": "code",
      "source": [
        "if a <= b or a > 5:\n",
        "  print(\"Variabel a is less or equal to b, or a is greater than 5\\TRUE\")\n",
        "else:\n",
        "  print(\"Variabel a is less or equal to b, or a is greater than 5\\FALSE\")\n",
        "\n",
        "# Another way to get boolean results\n",
        "con2 = (a<=b) or (a>5)\n",
        "print(con2)"
      ],
      "metadata": {
        "colab": {
          "base_uri": "https://localhost:8080/"
        },
        "id": "MMHWO28hu3Gb",
        "outputId": "dbca30f9-cd8c-4929-f9d5-cc5900d59294"
      },
      "execution_count": null,
      "outputs": [
        {
          "output_type": "stream",
          "name": "stdout",
          "text": [
            "Variabel a is less or equal to b, or a is greater than 5\\TRUE\n",
            "True\n"
          ]
        }
      ]
    },
    {
      "cell_type": "markdown",
      "source": [
        "Question 5 Precedence of operators:\n",
        "Given the value of a and b in previous question, evaluate each one of the expressions,\n",
        "and then enter in Python to see if your calculation is correct:\n",
        "\n",
        "• (a+b)>15 or (a-b)< 8\n",
        "\n",
        "• (a+b)>15 or ((a-b)<8 and False)\n",
        "\n",
        "• a+b>15-2*2**4/4 and (not False)"
      ],
      "metadata": {
        "id": "Os4fnY330wSk"
      }
    },
    {
      "cell_type": "code",
      "source": [
        "condition1 = (a+b) > 15 or (a-b) < 8\n",
        "print(\"condition1:\",condition1)\n",
        "\n",
        "condition2 = (a+b) > 15 or ((a-b)<8 and False)\n",
        "print(\"condition2:\",condition2)\n",
        "\n",
        "condition3 = a+b>15-22*4/4 and (not False)\n",
        "print(\"condition3:\", condition3)"
      ],
      "metadata": {
        "colab": {
          "base_uri": "https://localhost:8080/"
        },
        "id": "kGn8PdJu00Ps",
        "outputId": "fd93cd04-f518-44b8-aade-45a39b851c12"
      },
      "execution_count": null,
      "outputs": [
        {
          "output_type": "stream",
          "name": "stdout",
          "text": [
            "condition1: True\n",
            "condition2: True\n",
            "condition3: True\n"
          ]
        }
      ]
    },
    {
      "cell_type": "markdown",
      "source": [
        "6. Modulus operator\n",
        "Given an integer number during execution (user input), find the last two digits of this\n",
        "number."
      ],
      "metadata": {
        "id": "402VG6tE2Pia"
      }
    },
    {
      "cell_type": "code",
      "source": [
        "input_number = int(input(\"Enter an integer number:\"))\n",
        "last_two_digits = input_number% 100\n",
        "print(\"last two digits of the number:\", last_two_digits)"
      ],
      "metadata": {
        "colab": {
          "base_uri": "https://localhost:8080/"
        },
        "id": "7ckiLvDe2UAt",
        "outputId": "4d856761-cf5f-4296-d15f-e26ea61d9820"
      },
      "execution_count": null,
      "outputs": [
        {
          "output_type": "stream",
          "name": "stdout",
          "text": [
            "Enter an integer number:3564\n",
            "last two digits of the number: 64\n"
          ]
        }
      ]
    },
    {
      "cell_type": "markdown",
      "source": [
        "Question 7 Given a value of x entered from keyboard, if x is even, print “x (the value of x) is\n",
        "even”, or print “x (the value of x) is odd”"
      ],
      "metadata": {
        "id": "GTv7bij43M4z"
      }
    },
    {
      "cell_type": "code",
      "source": [
        "x = int(input(\"Enter the value of x:\"))\n",
        "if x % 2 ==0:\n",
        "  print(f\"{x} is even\")\n",
        "else:\n",
        "  print(f\"{x} is odd\")"
      ],
      "metadata": {
        "colab": {
          "base_uri": "https://localhost:8080/"
        },
        "id": "p0i6hPRq3Qt-",
        "outputId": "c7e99808-ad4d-4c77-9016-8ee378924446"
      },
      "execution_count": null,
      "outputs": [
        {
          "output_type": "stream",
          "name": "stdout",
          "text": [
            "Enter the value of x:6\n",
            "6 is even\n"
          ]
        }
      ]
    },
    {
      "cell_type": "markdown",
      "source": [
        "Question 8  Given value entered from keyboard,\n",
        "• when 6<=value <10, print “Good Morning”\n",
        "\n",
        "• when 10<=value<12, print “soon time for lunch”\n",
        "\n",
        "• when 12<=value<18, print “Good day”\n",
        "\n",
        "• when 18<=value<22, print “Good evening”\n",
        "\n",
        "• Otherwise, print “Good night”"
      ],
      "metadata": {
        "id": "CV3Zcz563vk6"
      }
    },
    {
      "cell_type": "code",
      "source": [
        "value = int(input(\"Enter the value:\"))\n",
        "if 6 <= value < 10:\n",
        "  print(\"Good Morning\")\n",
        "elif 10 <= value <12:\n",
        "  print(\"soon time for lunch\")\n",
        "elif 12 <= value < 18:\n",
        "  print(\"Good day\")\n",
        "elif 18 <= value <22:\n",
        "  print(\"Good evening\")\n",
        "else:\n",
        "  print(\"Good night baby girl\")"
      ],
      "metadata": {
        "colab": {
          "base_uri": "https://localhost:8080/"
        },
        "id": "kruFhkdr34rC",
        "outputId": "7ce0c17e-a5e4-465d-f2ba-856301acd05e"
      },
      "execution_count": null,
      "outputs": [
        {
          "output_type": "stream",
          "name": "stdout",
          "text": [
            "Enter the value:23\n",
            "Good night baby girl\n"
          ]
        }
      ]
    },
    {
      "cell_type": "markdown",
      "source": [
        "Question 9: Computer will randomly generate a number between 0 and 1000, and\n",
        "you will make a guess about this number. Python will give feedback based on the\n",
        "number you entered. For instance, if the randomly generated number is 5, and you\n",
        "guess 6, python will print “Try a smaller number”. Then you guess 4, then Python will\n",
        "print “Try a larger number”. If you guess 5, Python will print “Bingo!”. If you guess it right\n",
        "in 10 guesses, python prints “Wonderful Job”; within 20, prints “Good Job”; otherwise,\n",
        "print “Try to do better next time.”"
      ],
      "metadata": {
        "id": "R2ekyE1D5GY6"
      }
    },
    {
      "cell_type": "code",
      "source": [
        "import random\n",
        "number = random.randint(0,1000)\n",
        "\n",
        "number_of_guesses = 0\n",
        "print(\"Guess a number:\")\n",
        "\n",
        "while number_of_guesses < 20:\n",
        "  guess = int(input())\n",
        "  number_of_guesses += 1\n",
        "  #same as above: number_of_guesses = number_of_guesses + 1\n",
        "  if guess < number:\n",
        "    print(\"try a larger number\")\n",
        "  if guess > number:\n",
        "    print(\"try a smaller number\")\n",
        "  if guess == number:\n",
        "    print(\"BINGO\")\n",
        "    break\n",
        "\n",
        "if guess == number and number_of_guesses < 10:\n",
        "  print(\"Wonderful Job eres fabuloso campion\")\n",
        "elif guess == number and number_of_guesses < 20:\n",
        "  print(\"Good Job\")\n",
        "elif guess == number and number_of_guesses > 20:\n",
        "  print(\"Do better next time sport\")\n",
        "\n",
        "else:\n",
        "  print(\"Better luck next time\")\n"
      ],
      "metadata": {
        "colab": {
          "base_uri": "https://localhost:8080/"
        },
        "id": "m6UD4V0-5DhK",
        "outputId": "ebf3ef93-3304-4542-bc5b-197527e1d790"
      },
      "execution_count": null,
      "outputs": [
        {
          "output_type": "stream",
          "name": "stdout",
          "text": [
            "Guess a number:\n",
            "500\n",
            "try a smaller number\n",
            "300\n",
            "try a smaller number\n",
            "200\n",
            "try a larger number\n",
            "250\n",
            "try a larger number\n",
            "280\n",
            "try a larger number\n",
            "290\n",
            "try a smaller number\n",
            "284\n",
            "try a larger number\n",
            "286\n",
            "BINGO\n",
            "Wonderful Job eres fabuloso campion\n"
          ]
        }
      ]
    }
  ]
}